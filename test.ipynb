{
 "cells": [
  {
   "cell_type": "code",
   "execution_count": 1,
   "metadata": {},
   "outputs": [
    {
     "name": "stdout",
     "output_type": "stream",
     "text": [
      "Original DataFrame:\n",
      "   A  B  C\n",
      "0  1  4  7\n",
      "1  2  5  8\n",
      "2  2  5  8\n",
      "3  4  4  7\n",
      "4  5  5  8\n",
      "5  5  5  8\n",
      "6  5  5  8\n",
      "\n",
      "DataFrame after dropping duplicates:\n",
      "   A  B  C\n",
      "0  1  4  7\n",
      "1  2  5  8\n",
      "3  4  4  7\n",
      "4  5  5  8\n"
     ]
    }
   ],
   "source": [
    "import pandas as pd\n",
    "\n",
    "# Sample DataFrame\n",
    "data = {\n",
    "    'A': [1, 2, 2, 4, 5, 5, 5],\n",
    "    'B': [4, 5, 5, 4, 5, 5, 5],\n",
    "    'C': [7, 8, 8, 7, 8, 8, 8]\n",
    "}\n",
    "\n",
    "df = pd.DataFrame(data)\n",
    "\n",
    "# Display the original DataFrame\n",
    "print(\"Original DataFrame:\")\n",
    "print(df)\n",
    "\n",
    "# Drop duplicate rows\n",
    "df_deduplicated = df.drop_duplicates()\n",
    "\n",
    "# Display the DataFrame after dropping duplicates\n",
    "print(\"\\nDataFrame after dropping duplicates:\")\n",
    "print(df_deduplicated)\n"
   ]
  },
  {
   "cell_type": "code",
   "execution_count": 21,
   "metadata": {},
   "outputs": [
    {
     "name": "stdout",
     "output_type": "stream",
     "text": [
      "4\n"
     ]
    },
    {
     "ename": "TypeError",
     "evalue": "type 'range' is not subscriptable",
     "output_type": "error",
     "traceback": [
      "\u001b[1;31m---------------------------------------------------------------------------\u001b[0m",
      "\u001b[1;31mTypeError\u001b[0m                                 Traceback (most recent call last)",
      "Cell \u001b[1;32mIn[21], line 11\u001b[0m\n\u001b[0;32m      4\u001b[0m \u001b[38;5;66;03m# print(test)\u001b[39;00m\n\u001b[0;32m      5\u001b[0m \u001b[38;5;66;03m# print(test[0])\u001b[39;00m\n\u001b[0;32m      6\u001b[0m \n\u001b[0;32m      7\u001b[0m \u001b[38;5;66;03m# # for i in range(len(test)):\u001b[39;00m\n\u001b[0;32m      8\u001b[0m \u001b[38;5;66;03m# #     print(test[i])\u001b[39;00m\n\u001b[0;32m     10\u001b[0m \u001b[38;5;28mprint\u001b[39m(\u001b[38;5;28mlen\u001b[39m(test))\n\u001b[1;32m---> 11\u001b[0m \u001b[38;5;28mprint\u001b[39m(\u001b[38;5;28mrange\u001b[39m[test])\n\u001b[0;32m     12\u001b[0m \u001b[38;5;28mprint\u001b[39m(\u001b[38;5;28mlen\u001b[39m(\u001b[38;5;28mrange\u001b[39m(test)))\n",
      "\u001b[1;31mTypeError\u001b[0m: type 'range' is not subscriptable"
     ]
    }
   ],
   "source": [
    "test = [2,7,11,15]\n",
    "target = 9\n",
    "\n",
    "print(len(test))\n",
    "print(range[test])\n",
    "print(len(range(test)))\n",
    "# print(test)\n",
    "# print(test[0])\n",
    "\n",
    "# # for i in range(len(test)):\n",
    "# #     print(test[i])\n",
    "    \n",
    "# print(len(test))\n",
    "# print(range[test])\n",
    "# print(len(range(test)))"
   ]
  },
  {
   "cell_type": "code",
   "execution_count": 19,
   "metadata": {},
   "outputs": [
    {
     "data": {
      "text/plain": [
       "[0, 1]"
      ]
     },
     "execution_count": 19,
     "metadata": {},
     "output_type": "execute_result"
    }
   ],
   "source": [
    "test = [2,7,11,15,2,7]\n",
    "target = 9\n",
    "\n",
    "def twosum(test,target):\n",
    "    for i in range(len(test)):\n",
    "        for j in range(i+1,len(test)):\n",
    "            if test[i] + test[j] == target:\n",
    "                return [i,j]\n",
    "    return None        \n",
    "\n",
    "twosum(test,target)"
   ]
  }
 ],
 "metadata": {
  "kernelspec": {
   "display_name": "Python 3",
   "language": "python",
   "name": "python3"
  },
  "language_info": {
   "codemirror_mode": {
    "name": "ipython",
    "version": 3
   },
   "file_extension": ".py",
   "mimetype": "text/x-python",
   "name": "python",
   "nbconvert_exporter": "python",
   "pygments_lexer": "ipython3",
   "version": "3.12.4"
  }
 },
 "nbformat": 4,
 "nbformat_minor": 2
}
